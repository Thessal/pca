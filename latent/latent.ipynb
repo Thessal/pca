{
 "cells": [
  {
   "cell_type": "code",
   "execution_count": 1,
   "id": "922a3340",
   "metadata": {},
   "outputs": [],
   "source": [
    "import pandas as pd \n",
    "import numpy as np\n",
    "import torch\n",
    "import torch.nn as nn\n",
    "import torch.nn.functional as F\n"
   ]
  },
  {
   "cell_type": "code",
   "execution_count": 96,
   "id": "7e9c03cc",
   "metadata": {},
   "outputs": [],
   "source": [
    "df_prc = pd.read_csv(\"./close.csv\", index_col=0, parse_dates=True)\n",
    "df_logret = df_prc.apply(np.log).diff().iloc[1:]"
   ]
  },
  {
   "cell_type": "code",
   "execution_count": 97,
   "id": "fde83714",
   "metadata": {},
   "outputs": [],
   "source": [
    "x_logret = torch.Tensor(df_logret.values)"
   ]
  },
  {
   "cell_type": "code",
   "execution_count": null,
   "id": "ac126433",
   "metadata": {},
   "outputs": [],
   "source": [
    "lookback = 5\n",
    "ts = nn.Conv1d(in_channels=1, out_channels=1, kernel_size=lookback, padding_mode='zeros', padding=lookback-1, bias=False)\n",
    "ts.weight.data = ts.weight*0 + 1\n",
    "# 1d convolution\n",
    "x_logret_ts = ts(x_logret.T[:,torch.newaxis,:]).transpose(0,1)[0,:,:-lookback+1].T#.shape"
   ]
  },
  {
   "cell_type": "code",
   "execution_count": 114,
   "id": "9b856e5d",
   "metadata": {},
   "outputs": [
    {
     "data": {
      "text/plain": [
       "array([[        nan,         nan,         nan, ...,         nan,\n",
       "                nan,         nan],\n",
       "       [        nan,         nan,         nan, ...,         nan,\n",
       "                nan,         nan],\n",
       "       [        nan,         nan,         nan, ...,         nan,\n",
       "                nan,         nan],\n",
       "       ...,\n",
       "       [ 0.04993695, -0.00423729,  0.02188727, ..., -0.01344881,\n",
       "         0.04082199,  0.03623591],\n",
       "       [ 0.05454558,  0.00211193,  0.00415801, ..., -0.00956945,\n",
       "         0.0453557 , -0.02848491],\n",
       "       [ 0.03979891,  0.00423729,  0.00311042, ..., -0.01151644,\n",
       "         0.0453557 , -0.03111641]], shape=(2464, 214))"
      ]
     },
     "execution_count": 114,
     "metadata": {},
     "output_type": "execute_result"
    }
   ],
   "source": [
    "df_logret.rolling(lookback).sum().values"
   ]
  },
  {
   "cell_type": "code",
   "execution_count": 115,
   "id": "5054be89",
   "metadata": {},
   "outputs": [
    {
     "data": {
      "text/plain": [
       "tensor([[-0.0122,  0.0080,  0.0159,  ...,  0.0174, -0.0338,  0.0346],\n",
       "        [-0.0122, -0.0040,  0.0159,  ...,  0.0513, -0.0013,  0.0832],\n",
       "        [-0.0030,  0.0159,  0.0301,  ...,  0.0921, -0.0129,  0.0514],\n",
       "        ...,\n",
       "        [ 0.0499, -0.0042,  0.0219,  ..., -0.0134,  0.0408,  0.0362],\n",
       "        [ 0.0545,  0.0021,  0.0042,  ..., -0.0096,  0.0454, -0.0285],\n",
       "        [ 0.0398,  0.0042,  0.0031,  ..., -0.0115,  0.0454, -0.0311]],\n",
       "       grad_fn=<PermuteBackward0>)"
      ]
     },
     "execution_count": 115,
     "metadata": {},
     "output_type": "execute_result"
    }
   ],
   "source": [
    "x_logret_ts"
   ]
  },
  {
   "cell_type": "code",
   "execution_count": 116,
   "id": "35a85cd6",
   "metadata": {},
   "outputs": [
    {
     "data": {
      "text/plain": [
       "tensor([[-0.0122,  0.0080,  0.0159,  ...,  0.0174, -0.0338,  0.0346],\n",
       "        [ 0.0000, -0.0120,  0.0000,  ...,  0.0339,  0.0325,  0.0486],\n",
       "        [ 0.0092,  0.0199,  0.0141,  ...,  0.0408, -0.0116, -0.0318],\n",
       "        ...,\n",
       "        [ 0.0115,  0.0085,  0.0104,  ..., -0.0019, -0.0061,  0.0059],\n",
       "        [-0.0014,  0.0063, -0.0062,  ...,  0.0058,  0.0061, -0.0574],\n",
       "        [-0.0072, -0.0021,  0.0021,  ..., -0.0039,  0.0000, -0.0063]])"
      ]
     },
     "execution_count": 116,
     "metadata": {},
     "output_type": "execute_result"
    }
   ],
   "source": [
    "x_logret"
   ]
  },
  {
   "cell_type": "code",
   "execution_count": 68,
   "id": "1759cd85",
   "metadata": {},
   "outputs": [],
   "source": [
    "\n",
    "class MinVar(nn.Module):\n",
    "    def __init__(self, cov, gross_exposure_constraint, use_latent=False, cuda=True):\n",
    "        super().__init__()\n",
    "        self.enable_cuda = cuda\n",
    "        self.cov = cov.cuda() if cuda else cov\n",
    "        num_instrument = cov.shape[0]\n",
    "        self.use_latent = use_latent\n",
    "        if use_latent:\n",
    "            self.latent = nn.Linear(in_features=30, out_features=num_instrument, bias=False) # A\n",
    "            self.fc = nn.Linear(in_features=30, out_features=1, bias=False) # w_e\n",
    "        else:\n",
    "            self.fc = nn.Linear(in_features=num_instrument, out_features=1, bias=False) # w_e\n",
    "        self.fc.weight.data = (torch.rand_like(self.fc.weight) - 0.5) / num_instrument \n",
    "        self.gross_exp_constr = gross_exposure_constraint\n",
    "\n",
    "        eigenvalues, eigenvectors = torch.linalg.eigh(self.cov)\n",
    "        sorted_indices = torch.argsort(eigenvalues, descending=True)\n",
    "        self.eigenvalues = eigenvalues[sorted_indices]\n",
    "        self.eigenvectors = eigenvectors[:, sorted_indices]\n",
    "\n",
    "    @property\n",
    "    def portfolio_weight(self): # w_p = v * A * w_e\n",
    "        if self.use_latent:\n",
    "            weight_in_eigenvalue_space = self.latent(self.fc.weight).T\n",
    "        weight_in_eigenvalue_space = self.fc.weight.T\n",
    "        weight_in_instrument_space = self.eigenvectors @ weight_in_eigenvalue_space\n",
    "        norm_coef = self.normalize_coeff(weight_in_instrument_space)\n",
    "        return weight_in_eigenvalue_space / norm_coef, weight_in_instrument_space / norm_coef\n",
    "    \n",
    "    def get_weight(self):\n",
    "        return self.portfolio_weight[1].cpu().detach().numpy()\n",
    "\n",
    "    @staticmethod\n",
    "    def normalize_coeff(x):\n",
    "        # 1x Long\n",
    "        return x.sum()\n",
    "    \n",
    "    def _normalize_weight(self):\n",
    "        # Prevents divergence\n",
    "        if self.use_latent:\n",
    "            self.latent.weight.data = self.latent.weight / torch.linalg.matrix_norm(self.latent.weight, ord='fro')\n",
    "        # self.fc.weight.data = self.fc.weight / torch.linalg.vector_norm(self.fc.weight, ord=2)\n",
    "        self.fc.weight.data = self.fc.weight / self.normalize_coeff(self.fc.weight)\n",
    "\n",
    "    def fit(self, n_epochs=10000, print_step=1000, learning_rate=1e-4):\n",
    "        if self.enable_cuda:\n",
    "            self.cuda()\n",
    "        optimizer = torch.optim.Adagrad(self.parameters(), lr=learning_rate) # Momentum-less optimizer for barrier method\n",
    "        for e in range(n_epochs):\n",
    "            w_e, w_i = self.portfolio_weight\n",
    "            gross_exposure = torch.linalg.vector_norm(w_i, ord=1)\n",
    "            portfolio_variance = self.eigenvalues @ (w_e.square())\n",
    "            barrier_loss = torch.relu(gross_exposure - self.gross_exp_constr)\n",
    "            loss = torch.log(portfolio_variance) + barrier_loss\n",
    "\n",
    "            loss.backward()\n",
    "            optimizer.step()\n",
    "            # self._normalize_weight()\n",
    "            print(f'{str(e).zfill(5)}/{n_epochs}, variance={portfolio_variance.item():.2e}, gross_exposure = {gross_exposure.item():.2e}, barrier_loss={barrier_loss:.2e}, loss={loss.item():.2e}, normalization={torch.sum(self.fc.weight):.2e}     ', end='\\r', flush=True)\n",
    "            if print_step and e%print_step == 0 :\n",
    "                print()\n",
    "        print(\"\\nTrain Finished\")"
   ]
  },
  {
   "cell_type": "code",
   "execution_count": null,
   "id": "44d48158",
   "metadata": {},
   "outputs": [],
   "source": []
  }
 ],
 "metadata": {
  "kernelspec": {
   "display_name": "pca",
   "language": "python",
   "name": "python3"
  },
  "language_info": {
   "codemirror_mode": {
    "name": "ipython",
    "version": 3
   },
   "file_extension": ".py",
   "mimetype": "text/x-python",
   "name": "python",
   "nbconvert_exporter": "python",
   "pygments_lexer": "ipython3",
   "version": "3.13.0"
  }
 },
 "nbformat": 4,
 "nbformat_minor": 5
}
